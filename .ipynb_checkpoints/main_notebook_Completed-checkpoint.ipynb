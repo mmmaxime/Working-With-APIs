{
 "cells": [
  {
   "cell_type": "markdown",
   "metadata": {},
   "source": [
    "# Use this notebook for your 3 choices of APIs"
   ]
  },
  {
   "cell_type": "markdown",
   "metadata": {},
   "source": [
    "#### Imported from the following API category: Inshorts News API [Unofficial] - Entertainment"
   ]
  },
  {
   "cell_type": "markdown",
   "metadata": {},
   "source": [
    "Running the librairies request and URL"
   ]
  },
  {
   "cell_type": "code",
   "execution_count": 1,
   "metadata": {},
   "outputs": [],
   "source": [
    "import pandas as pd\n",
    "import requests\n",
    "\n",
    "res = requests.get('https://inshorts.deta.dev/news?category=entertainment')"
   ]
  },
  {
   "cell_type": "code",
   "execution_count": 2,
   "metadata": {},
   "outputs": [
    {
     "data": {
      "text/plain": [
       "requests.models.Response"
      ]
     },
     "execution_count": 2,
     "metadata": {},
     "output_type": "execute_result"
    }
   ],
   "source": [
    "type(res)"
   ]
  },
  {
   "cell_type": "markdown",
   "metadata": {},
   "source": [
    "Happy to get a 200 response"
   ]
  },
  {
   "cell_type": "code",
   "execution_count": 3,
   "metadata": {},
   "outputs": [
    {
     "data": {
      "text/plain": [
       "<Response [200]>"
      ]
     },
     "execution_count": 3,
     "metadata": {},
     "output_type": "execute_result"
    }
   ],
   "source": [
    "res"
   ]
  },
  {
   "cell_type": "markdown",
   "metadata": {},
   "source": [
    "Looking to see how the API is structured"
   ]
  },
  {
   "cell_type": "code",
   "execution_count": 4,
   "metadata": {},
   "outputs": [
    {
     "data": {
      "text/plain": [
       "{'category': 'entertainment',\n",
       " 'data': [{'author': 'Sakshita Khosla',\n",
       "   'content': 'American comedian and TV host Ellen DeGeneres shared footage of a flooded river next to her house in California\\'s Montecito, as a storm hit the town and evacuation orders were issued. \"This is crazy,\" said Ellen. \"It (the river) is...about nine feet [high]...We need to be nicer to mother nature because mother nature is not happy with us,\" she added.',\n",
       "   'date': '10 Jan 2023,Tuesday',\n",
       "   'id': '7e81427395de47a6952f7f7962bd3b7d',\n",
       "   'imageUrl': 'https://static.inshorts.com/inshorts/images/v1/variants/jpg/m/2023/01_jan/10_tue/img_1673331737138_615.jpg?',\n",
       "   'readMoreUrl': 'https://www.independent.co.uk/arts-entertainment/tv/news/ellen-degeneres-montecito-flood-storm-california-b2259117.html?utm_campaign=fullarticle&utm_medium=referral&utm_source=inshorts ',\n",
       "   'time': '12:14 pm',\n",
       "   'title': \"Ellen shares video of flooded river as storm hits her US hometown, says 'this is crazy'\",\n",
       "   'url': 'https://www.inshorts.com/en/news/ellen-shares-video-of-flooded-river-as-storm-hits-her-us-hometown-says-this-is-crazy-1673333040623'},\n",
       "  {'author': 'Arshiya Chopra',\n",
       "   'content': 'Actress Karishma Sharma has denied former professional kickboxer Andrew Tate\\'s claim in an old video that he had hooked up with her. \"We never hooked up...he is a scumbag spreading lies...I was really happy when he was arrested.\" Karishma said she had once met him at a 2014 party and clicked a picture with him, which is now going viral.',\n",
       "   'date': '10 Jan 2023,Tuesday',\n",
       "   'id': '99070370138d4b47b9053f6aa763ef98',\n",
       "   'imageUrl': 'https://static.inshorts.com/inshorts/images/v1/variants/jpg/m/2023/01_jan/10_tue/img_1673335024590_628.jpg?',\n",
       "   'readMoreUrl': 'https://www.hindustantimes.com/entertainment/bollywood/karishma-sharma-on-andrew-tate-s-claims-of-hooking-up-he-is-a-scumbag-i-m-in-tears-101673332244717-amp.html?utm_campaign=fullarticle&utm_medium=referral&utm_source=inshorts ',\n",
       "   'time': '12:56 pm',\n",
       "   'title': \"I never hooked up with him, he's a scumbag: Actress Karishma Sharma on Tate’s claim\",\n",
       "   'url': 'https://www.inshorts.com/en/news/i-never-hooked-up-with-him-hes-a-scumbag-actress-karishma-sharma-on-tates-claim-1673335612997'},\n",
       "  {'author': 'Kameshwari',\n",
       "   'content': 'Actor-director Rishab Shetty shared that his film \\'Kantara\\' has \"received two Oscar qualifications\". Reportedly, the film has made it to the Academy Awards qualification list in the Best Picture and Best Actor categories. On Tuesday, Rishab took to Twitter and wrote, \"A heartfelt thank you to all who have supported us...Can\\'t wait to see it shine at the Oscars.\"',\n",
       "   'date': '10 Jan 2023,Tuesday',\n",
       "   'id': '44a4c10093354de49cd82c02a0c9b7f4',\n",
       "   'imageUrl': 'https://static.inshorts.com/inshorts/images/v1/variants/jpg/m/2023/01_jan/10_tue/img_1673331326991_31.jpg?',\n",
       "   'readMoreUrl': 'https://twitter.com/shetty_rishab/status/1612683506794266626?utm_campaign=fullarticle&utm_medium=referral&utm_source=inshorts ',\n",
       "   'time': '12:26 pm',\n",
       "   'title': \"'Kantara' receives two Oscar qualifications, confirms Rishab Shetty\",\n",
       "   'url': 'https://www.inshorts.com/en/news/kantara-receives-two-oscar-qualifications-confirms-rishab-shetty-1673333779870'},\n",
       "  {'author': 'Anmol Sharma',\n",
       "   'content': 'Talking about \\'Besharam Rang\\' song from the upcoming \\'Pathaan\\' movie, actor Anant Nag, who has worked in over 300 movies, said, \"Showing women in such a way is not part of our Indian culture.\" He added, \"Indian cinema should stop such nudity content on big and small screens. Showing things against our culture and tradition will definitely cause conflicts among...people.”',\n",
       "   'date': '10 Jan 2023,Tuesday',\n",
       "   'id': '93701622289446c2851fb72917ec9e1f',\n",
       "   'imageUrl': 'https://static.inshorts.com/inshorts/images/v1/variants/jpg/m/2023/01_jan/10_tue/img_1673345671644_101.jpg?',\n",
       "   'readMoreUrl': None,\n",
       "   'time': '03:54 pm',\n",
       "   'title': \"Indian cinema should stop such nudity: Veteran actor Anant Nag on 'Besharam Rang'\",\n",
       "   'url': 'https://www.inshorts.com/en/news/indian-cinema-should-stop-such-nudity-veteran-actor-anant-nag-on-besharam-rang-1673346290481'},\n",
       "  {'author': 'Arshiya Chopra',\n",
       "   'content': 'Actor Varun Dhawan criticised the Twitter handle\\'s post on Samantha Ruth Prabhu that claimed that the actress has lost her \"charm and glow\" after myositis diagnosis. \"You don\\'t feel bad about anything you just care about clickbait feel bad for you son. Also glow is available in Instagram filters. Just meet Sam trust me she was glowing,\" Varun tweeted.',\n",
       "   'date': '10 Jan 2023,Tuesday',\n",
       "   'id': '31e97f302d564f43ba0c0a6293a92c9e',\n",
       "   'imageUrl': 'https://static.inshorts.com/inshorts/images/v1/variants/jpg/m/2023/01_jan/10_tue/img_1673332351492_474.jpg?',\n",
       "   'readMoreUrl': 'https://twitter.com/Varun_dvn/status/1612672731388035073?utm_campaign=fullarticle&utm_medium=referral&utm_source=inshorts ',\n",
       "   'time': '12:26 pm',\n",
       "   'title': \"Varun criticises 'Samantha lost glow' tweet, says 'Glow is available in Insta filters'\",\n",
       "   'url': 'https://www.inshorts.com/en/news/varun-criticises-samantha-lost-glow-tweet-says-glow-is-available-in-insta-filters-1673333769226'},\n",
       "  {'author': 'Arshiya Chopra',\n",
       "   'content': 'The Academy of Motion Picture Arts and Sciences has released a reminder list of 301 feature films eligible for Oscars, which includes Indian films. RRR, Gangubai Kathiawadi, The Kashmir Files, Kantara, Chhello Show (Last Film Show), Rocketry: The Nambi Effect, Iravin Nizhal, Vikrant Rona, Me Vasantrao and Tujhya Sathi Kahi Hi are among the Indian films in the list.',\n",
       "   'date': '10 Jan 2023,Tuesday',\n",
       "   'id': 'da836422152644aaa796d4ada9972e23',\n",
       "   'imageUrl': 'https://static.inshorts.com/inshorts/images/v1/variants/jpg/m/2023/01_jan/10_tue/img_1673336573740_917.jpg?',\n",
       "   'readMoreUrl': 'https://www.news18.com/amp/news/movies/oscars-2023-kantara-the-kashmir-files-gangubai-kathiawadi-join-rrr-in-oscar-race-6798007.html?utm_campaign=fullarticle&utm_medium=referral&utm_source=inshorts ',\n",
       "   'time': '01:31 pm',\n",
       "   'title': \"Which Indian films have been included in Oscars' eligible list?\",\n",
       "   'url': 'https://www.inshorts.com/en/news/which-indian-films-have-been-included-in-oscars-eligible-list-1673337707949'},\n",
       "  {'author': 'Anmol Sharma',\n",
       "   'content': 'After her picture with Shah Rukh Khan\\'s son Aryan Khan from a New Year party in Dubai sparked dating rumours, Pakistani actress Sadia Khan said, \"I\\'m not...only one who took a picture with Aryan.\" \"It\\'s very strange how people make up stories...without knowing...full picture. There needs to be a limit to all that goes around in...name of news,\" she added.',\n",
       "   'date': '10 Jan 2023,Tuesday',\n",
       "   'id': '5b7ef3965c5c402c938eb9722d9ff33f',\n",
       "   'imageUrl': 'https://static.inshorts.com/inshorts/images/v1/variants/jpg/m/2023/01_jan/10_tue/img_1673341916155_590.jpg?',\n",
       "   'readMoreUrl': 'https://www.news18.com/amp/news/movies/pak-actress-sadia-khan-reacts-to-dating-rumours-with-aryan-khan-calls-shah-rukh-khans-son-extremely-well-mannered-6798871.html?utm_campaign=fullarticle&utm_medium=referral&utm_source=inshorts ',\n",
       "   'time': '02:53 pm',\n",
       "   'title': 'I am not the only one who took a pic with Aryan: Pak actress Sadia on dating rumours',\n",
       "   'url': 'https://www.inshorts.com/en/news/i-am-not-the-only-one-who-took-a-pic-with-aryan-pak-actress-sadia-on-dating-rumours-1673342631518'},\n",
       "  {'author': 'Pragya Swastik',\n",
       "   'content': 'Actor Shah Rukh Khan on Tuesday tweeted to \\'RRR\\' actor Ram Charan in Telugu. \"When RRR team brings Oscar to India, please let me touch it!! (Mee RRR team Oscar ni intiki tecchinappudu okkasaari nannu daanini touch cheyyanivvandi!),\" Shah Rukh tweeted. RRR\\'s \\'Naatu Naatu\\' has been shortlisted for the Academy Awards.',\n",
       "   'date': '10 Jan 2023,Tuesday',\n",
       "   'id': 'b4de4030ecbf4be49a6b4c55daf0f0ff',\n",
       "   'imageUrl': 'https://static.inshorts.com/inshorts/images/v1/variants/jpg/m/2023/01_jan/10_tue/img_1673360837238_774.jpg?',\n",
       "   'readMoreUrl': 'https://www.hindustantimes.com/entertainment/bollywood/shah-rukh-khan-asks-ram-charan-to-let-him-touch-the-oscar-they-win-for-rrr-101673343714278-amp.html?utm_campaign=fullarticle&utm_medium=referral&utm_source=inshorts ',\n",
       "   'time': '07:59 pm',\n",
       "   'title': \"When 'RRR' brings Oscar to India, let me touch it: SRK to Ram Charan in Telugu\",\n",
       "   'url': 'https://www.inshorts.com/en/news/when-rrr-brings-oscar-to-india-let-me-touch-it-srk-to-ram-charan-in-telugu-1673360993943'},\n",
       "  {'author': 'Anmol Sharma',\n",
       "   'content': 'Actress Mahekk Chahal told Hindustan Times that she has been hospitalised since the last eight days. \"I got pneumonia...I was in ICU for 3-4 days. I was on...oxygen ventilator. I...collapsed on January 2 and it was like knives in my chest. I couldn\\'t take...single breath,\" she said. She added, \"I want to get 100% fit and then get discharged.\"',\n",
       "   'date': '10 Jan 2023,Tuesday',\n",
       "   'id': '1e77d895259c49f9bb5b7b6bbb4fe103',\n",
       "   'imageUrl': 'https://static.inshorts.com/inshorts/images/v1/variants/jpg/m/2023/01_jan/10_tue/img_1673353052688_898.jpg?',\n",
       "   'readMoreUrl': 'https://www.hindustantimes.com/entertainment/tv/mahekk-chahal-hospitalised-was-in-the-icu-and-on-a-ventilator-i-couldn-t-take-a-single-breath-exclusive-101673346920240-amp.html?utm_campaign=fullarticle&utm_medium=referral&utm_source=inshorts ',\n",
       "   'time': '06:50 pm',\n",
       "   'title': \"Actress Mahekk hospitalised, says 'Collapsed on Jan 2, couldn't take a single breath'\",\n",
       "   'url': 'https://www.inshorts.com/en/news/actress-mahekk-hospitalised-says-collapsed-on-jan-2-couldnt-take-a-single-breath-1673356838158'},\n",
       "  {'author': 'Kameshwari',\n",
       "   'content': 'Rannvijay said that while he loved Shark Tank India\\'s concept, he didn\\'t have much to do as the show\\'s host. Talking about his exit from the second season, Rannvijay said, \"Even during...edits of the first season, they (makers) [said] there\\'s no space [to accommodate your portions]. It was...mutual decision.\" Rahul Dua replaced Rannvijay as Shark Tank India 2\\'s host.',\n",
       "   'date': '10 Jan 2023,Tuesday',\n",
       "   'id': '17e0694b3d23409b999c9a1dee29f51f',\n",
       "   'imageUrl': 'https://static.inshorts.com/inshorts/images/v1/variants/jpg/m/2023/01_jan/10_tue/img_1673346825676_397.jpg?',\n",
       "   'readMoreUrl': 'https://www.hindustantimes.com/entertainment/tv/rannvijay-on-quitting-shark-tank-india-2-i-did-not-have-much-to-do-101673327265573-amp.html?utm_campaign=fullarticle&utm_medium=referral&utm_source=inshorts ',\n",
       "   'time': '04:56 pm',\n",
       "   'title': \"I didn't have much to do: Rannvijay on quitting 'Shark Tank 2'\",\n",
       "   'url': 'https://www.inshorts.com/en/news/i-didnt-have-much-to-do-rannvijay-on-quitting-shark-tank-2-1673349992248'},\n",
       "  {'author': 'Kameshwari',\n",
       "   'content': 'Hrithik Roshan said he \"literally broke parts\" of himself in trying to achieve the vision of Kabir, his character from the 2019 hit film \\'War\\'. \"When...incredible success came, it failed to fill me up...Surprisingly, it left me empty...It was a cathartic time. I went into a shell for months nursing my physical and mental self back to health,\" he added. ',\n",
       "   'date': '10 Jan 2023,Tuesday',\n",
       "   'id': 'd8ca7b224eb144ce816446427c24f2a8',\n",
       "   'imageUrl': 'https://static.inshorts.com/inshorts/images/v1/variants/jpg/m/2023/01_jan/10_tue/img_1673337317607_80.jpg?',\n",
       "   'readMoreUrl': 'https://www.hindustantimes.com/entertainment/bollywood/exclusive-hrithik-roshan-birthdays-used-to-be-fun-then-became-a-chore-now-an-opportunity-101673329487193-amp.html?utm_campaign=fullarticle&utm_medium=referral&utm_source=inshorts ',\n",
       "   'time': '01:59 pm',\n",
       "   'title': \"War broke me, I went into shell, its success couldn't fill me: Hrithik\",\n",
       "   'url': 'https://www.inshorts.com/en/news/war-broke-me-i-went-into-shell-its-success-couldnt-fill-me-hrithik-1673339358991'},\n",
       "  {'author': 'Kameshwari',\n",
       "   'content': 'Hugh Jackman admitted that he never used steroids to transform into the character of Wolverine. \"I\\'d been told...the side effects...of that (steroids). And I was like, \\'I don\\'t love it that much\\'...I just did it the old school way...[ate] more chickens,\" he shared. He also revealed that he didn\\'t know anything about Wolverine before playing the part. ',\n",
       "   'date': '10 Jan 2023,Tuesday',\n",
       "   'id': '1f835bd206f6431a9ad2a6877745bcc9',\n",
       "   'imageUrl': 'https://static.inshorts.com/inshorts/images/v1/variants/jpg/m/2023/01_jan/10_tue/img_1673341091409_128.jpg?',\n",
       "   'readMoreUrl': None,\n",
       "   'time': '03:06 pm',\n",
       "   'title': \"Didn't use steroids: Hugh Jackman on his Wolverine transformation\",\n",
       "   'url': 'https://www.inshorts.com/en/news/didnt-use-steroids-hugh-jackman-on-his-wolverine-transformation-1673343381231'},\n",
       "  {'author': 'Arnab Mukherji ',\n",
       "   'content': 'Talking about \\'RRR\\', filmmaker Joe Lynch tweeted, \"I\\'m shaking. It\\'s one of the most amazing theatrical experiences I\\'ve...had. One of the most amazing movies I\\'ve ever seen.\" \"Give \\'RRR\\' every award but it doesn\\'t need any. It\\'ll always be \\'RRR\\'. All hail SS Rajamouli,\" added Lynch. \\'RRR\\' recently drew criticism from veteran actress Ratna Pathak Shah, who termed it \"regressive\".',\n",
       "   'date': '10 Jan 2023,Tuesday',\n",
       "   'id': 'bd6dffa6ccd54bfc9a1087cd8e0b5dbc',\n",
       "   'imageUrl': 'https://static.inshorts.com/inshorts/images/v1/variants/jpg/m/2023/01_jan/10_tue/img_1673346400917_191.jpg?',\n",
       "   'readMoreUrl': 'https://twitter.com/TheJoeLynch/status/1612717070441148417?utm_campaign=fullarticle&utm_medium=referral&utm_source=inshorts ',\n",
       "   'time': '04:16 pm',\n",
       "   'title': \"Give 'RRR' every award but it doesn't need any: Filmmaker Joe Lynch\",\n",
       "   'url': 'https://www.inshorts.com/en/news/give-rrr-every-award-but-it-doesnt-need-any-filmmaker-joe-lynch-1673347613277'},\n",
       "  {'author': 'Arnab Mukherji ',\n",
       "   'content': 'Talking about the song \\'Besharam Rang\\' from \\'Pathaan\\', lyricist Javed Akhtar said, \"We have four-five important religions and they should have their [own] censors. Maybe then Maulvis (under Islam) will start watching films.\" Reacting to the criticism being faced by the song starring actress Deepika Padukone, Javed added, \"The ministers are talking these things, forget about the fringe elements.\"',\n",
       "   'date': '10 Jan 2023,Tuesday',\n",
       "   'id': '1062f58dd1bb4b17868e613e10205fe2',\n",
       "   'imageUrl': 'https://static.inshorts.com/inshorts/images/v1/variants/jpg/m/2023/01_jan/10_tue/img_1673342240660_702.jpg?',\n",
       "   'readMoreUrl': 'https://www.hindustantimes.com/entertainment/bollywood/javed-akhtar-on-pathaan-row-we-have-4-5-dharmas-they-should-have-their-censors-101673321770795-amp.html?utm_campaign=fullarticle&utm_medium=referral&utm_source=inshorts ',\n",
       "   'time': '03:24 pm',\n",
       "   'title': \"Religions should have their own censors: Javed on 'Besharam Rang'\",\n",
       "   'url': 'https://www.inshorts.com/en/news/religions-should-have-their-own-censors-javed-on-besharam-rang-1673344448965'},\n",
       "  {'author': 'Kameshwari',\n",
       "   'content': 'Bhuvan Bam shared that he still hasn\\'t accepted his parents\\' death. His parents died in 2021 due to COVID-related complications. \"I don\\'t even think about it...When I sit alone, it\\'s a spiral...It never heals,\" he said. When asked about how long did he take to start making content after his parents\\' death, he replied, \"I don\\'t do it from...heart still.\"',\n",
       "   'date': '10 Jan 2023,Tuesday',\n",
       "   'id': 'bed57ccf17c647ae9dfef2118bc98a91',\n",
       "   'imageUrl': 'https://static.inshorts.com/inshorts/images/v1/variants/jpg/m/2023/01_jan/10_tue/img_1673342671061_150.jpg?',\n",
       "   'readMoreUrl': None,\n",
       "   'time': '03:24 pm',\n",
       "   'title': \"Till date, I haven't accepted it: Bhuvan Bam on parents' demise\",\n",
       "   'url': 'https://www.inshorts.com/en/news/till-date-i-havent-accepted-it-bhuvan-bam-on-parents-demise-1673344471474'},\n",
       "  {'author': 'Udit Gupta',\n",
       "   'content': 'Hrithik Roshan, speaking about his upcoming aerial action-thriller \\'Fighter\\', said, \"We are shooting with real fighter jets. We just shot in a Sukhoi.\" He added that it was inspiring to be around the Indian Air Force. \"There\\'s so much to learn from their body language, decorum, discipline, courage and intelligence. I\\'m...glad that I got to experience that myself,\" said Hrithik.    \\n',\n",
       "   'date': '10 Jan 2023,Tuesday',\n",
       "   'id': 'ec42829083764f9fbc05c00ac5435453',\n",
       "   'imageUrl': 'https://static.inshorts.com/inshorts/images/v1/variants/jpg/m/2023/01_jan/10_tue/img_1673340689988_133.jpg?',\n",
       "   'readMoreUrl': 'https://www.pinkvilla.com/entertainment/exclusives/exclusive-hrithik-roshan-on-fighter-krrish-4-jadoo-war-2-more-we-are-shooting-with-real-fighter-jets-1205961?amp=&utm_campaign=fullarticle&utm_medium=referral&utm_source=inshorts ',\n",
       "   'time': '04:18 pm',\n",
       "   'title': \"We're shooting with real jets, shot in a Sukhoi: Hrithik on 'Fighter'\",\n",
       "   'url': 'https://www.inshorts.com/en/news/were-shooting-with-real-jets-shot-in-a-sukhoi-hrithik-on-fighter-1673347684613'},\n",
       "  {'author': 'Kameshwari',\n",
       "   'content': 'Johny Lever revealed that there was no writer for the comedy scenes in \\'Baazigar\\'. \"I came up with...the punches...But these days, we don\\'t have (comedy) writers. It\\'s like, \\'Johny bhai will handle it\\'. That\\'s not how it works,\" he said. Johny added that he doesn\\'t do many films like before because \"the writing is bad\" and \"there\\'s hardly...comedy in movies\". ',\n",
       "   'date': '10 Jan 2023,Tuesday',\n",
       "   'id': 'c03291bb1a964e1e894c6b7d531a829d',\n",
       "   'imageUrl': 'https://static.inshorts.com/inshorts/images/v1/variants/jpg/m/2023/01_jan/10_tue/img_1673332725012_2.jpg?',\n",
       "   'readMoreUrl': None,\n",
       "   'time': '01:21 pm',\n",
       "   'title': \"Came up with comedy scenes in Baazigar, it didn't have writer: Johny\",\n",
       "   'url': 'https://www.inshorts.com/en/news/came-up-with-comedy-scenes-in-baazigar-it-didnt-have-writer-johny-1673337094712'},\n",
       "  {'author': 'Udit Gupta',\n",
       "   'content': 'Actor Kartik Aaryan will return for the third instalment of the \\'Bhool Bhulaiyaa\\' franchise, producer Bhushan Kumar has confirmed. He said that it will go on floors in the second half of 2024. \"We\\'re targeting to release the film in 2025,\" Bhushan added. The first part of the franchise, which starred Akshay Kumar and Vidya Balan, was released in 2007.    ',\n",
       "   'date': '10 Jan 2023,Tuesday',\n",
       "   'id': '0004a07d2eaa42ab97657dcb2cf82caa',\n",
       "   'imageUrl': 'https://static.inshorts.com/inshorts/images/v1/variants/jpg/m/2023/01_jan/10_tue/img_1673348533353_518.jpg?',\n",
       "   'readMoreUrl': 'https://www.pinkvilla.com/entertainment/exclusives/exclusive-bhool-bhulaiyaa-3-targets-a-2025-release-bhushan-kumar-confirms-horror-comedy-with-kartik-aaryan-1206004?amp=&utm_campaign=fullarticle&utm_medium=referral&utm_source=inshorts ',\n",
       "   'time': '07:00 pm',\n",
       "   'title': \"We are making 'Bhool Bhulaiyaa 3' with Kartik Aaryan: Producer\",\n",
       "   'url': 'https://www.inshorts.com/en/news/we-are-making-bhool-bhulaiyaa-3-with-kartik-aaryan-producer-1673357427820'},\n",
       "  {'author': 'Udit Gupta',\n",
       "   'content': 'Actor Rahul Deshpande, speaking about \\'Me Vasantrao\\' making it to the list of films eligible for Oscars, said that it\\'s a big deal for Marathi cinema. Calling it a \"rare occasion\", he said he is glad that the film is being noted on the global level. \"I\\'m so thankful that Oscar has taken note and found this eligible,\" said Rahul.  ',\n",
       "   'date': '10 Jan 2023,Tuesday',\n",
       "   'id': '4c0e4d5a72c14b34b48f7c7e7177653b',\n",
       "   'imageUrl': 'https://static.inshorts.com/inshorts/images/v1/variants/jpg/m/2023/01_jan/10_tue/img_1673351492450_258.jpg?',\n",
       "   'readMoreUrl': 'https://www.hindustantimes.com/entertainment/bollywood/rahul-deshpande-on-me-vasantrao-on-making-it-to-the-oscars-longlist-it-s-a-rare-occasion-101673347796586-amp.html?utm_campaign=fullarticle&utm_medium=referral&utm_source=inshorts ',\n",
       "   'time': '07:26 pm',\n",
       "   'title': \"Big deal for Marathi cinema: Rahul on 'Me...' making it to Oscars' eligible list\",\n",
       "   'url': 'https://www.inshorts.com/en/news/big-deal-for-marathi-cinema-rahul-on-me-making-it-to-oscars-eligible-list-1673359011902'},\n",
       "  {'author': 'Udit Gupta',\n",
       "   'content': 'Swara Bhasker, reacting to the controversy over Deepika Padukone\\'s outfits in \\'Besharam Rang\\', said, \"I think our leaders should focus less on actresses\\' clothes, more on their work.\" Earlier, MP Home Minister Narottam Mishra had called Deepika\\'s outfits in the song objectionable. Reportedly, CBFC had asked the film\\'s makers to replace \"partial nudity\" in the song with suitable shots. ',\n",
       "   'date': '10 Jan 2023,Tuesday',\n",
       "   'id': 'ca1e2110a9d54f49b8c9eaf11a8500cc',\n",
       "   'imageUrl': 'https://static.inshorts.com/inshorts/images/v1/variants/jpg/m/2023/01_jan/10_tue/img_1673358200294_115.jpg?',\n",
       "   'readMoreUrl': None,\n",
       "   'time': '07:57 pm',\n",
       "   'title': \"Our leaders should focus less on actresses' clothes: Swara on Besharam Rang\",\n",
       "   'url': 'https://www.inshorts.com/en/news/our-leaders-should-focus-less-on-actresses-clothes-swara-on-besharam-rang-1673360872847'},\n",
       "  {'author': 'Udit Gupta',\n",
       "   'content': 'Actor Anup Soni, speaking about his association with \\'Crime Patrol\\', said, \"It became so popular that I began to be associated only with Crime Patrol and...I missed out on a lot of acting opportunities.\" \"People would say, \\'Who\\'s Anup Soni? Oh, that Crime Patrol anchor.\\' People forgot...I\\'m a trained actor...That I\\'ve a lot of body of work as...actor,\" he added.   \\n',\n",
       "   'date': '10 Jan 2023,Tuesday',\n",
       "   'id': '799b72a132f541d396f65f4509bade08',\n",
       "   'imageUrl': 'https://static.inshorts.com/inshorts/images/v1/variants/jpg/m/2023/01_jan/10_tue/img_1673357467225_792.jpg?',\n",
       "   'readMoreUrl': None,\n",
       "   'time': '09:02 pm',\n",
       "   'title': \"People started calling me 'Crime Patrol anchor', forgot I'm an actor: Anup\",\n",
       "   'url': 'https://www.inshorts.com/en/news/people-started-calling-me-crime-patrol-anchor-forgot-im-an-actor-anup-1673364762534'},\n",
       "  {'author': 'Udit Gupta',\n",
       "   'content': 'Actor Ram Charan took to Twitter to react to the trailer of \\'Pathaan\\', writing, \"Shah Rukh Khan sir, looking forward to seeing you in action sequences like never before!\" \"Wishing the whole team of #Pathaan all the very best,\" he added. Directed by Siddharth Anand, the action-thriller film will also feature Deepika Padukone, John Abraham and Dimple Kapadia.    \\n',\n",
       "   'date': '10 Jan 2023,Tuesday',\n",
       "   'id': 'ef76f5f1d38b4e08bd20b3122548a497',\n",
       "   'imageUrl': 'https://static.inshorts.com/inshorts/images/v1/variants/jpg/m/2023/01_jan/10_tue/img_1673342385534_547.jpg?',\n",
       "   'readMoreUrl': 'https://www.timesnownews.com/entertainment-news/pathaan-trailer-ram-charan-dulquer-salmaan-other-celebs-react-to-shah-rukh-khans-high-octane-spy-thriller-article-96875275/amp?utm_campaign=fullarticle&utm_medium=referral&utm_source=inshorts ',\n",
       "   'time': '03:53 pm',\n",
       "   'title': 'Looking forward to seeing you in action sequences sir: Charan to SRK on Pathaan',\n",
       "   'url': 'https://www.inshorts.com/en/news/looking-forward-to-seeing-you-in-action-sequences-sir-charan-to-srk-on-pathaan-1673346234520'},\n",
       "  {'author': 'Arnab Mukherji ',\n",
       "   'content': 'Talking about \\'The Kashmir Files\\' making it to the list of films eligible for Oscars, filmmaker Ashoke Pandit took to Twitter to congratulate the film\\'s director Vivek Agnihotri, adding, \"Big slap [to] all those who abused it.\" \"All those who...insulted should apologise,\" added Ashoke. \"Every abuse hurled at Vivek was an abuse of our plight,\" he stated during an interaction.',\n",
       "   'date': '10 Jan 2023,Tuesday',\n",
       "   'id': '34c2589b9c9e4fd5a3e1a8552ae07d48',\n",
       "   'imageUrl': 'https://static.inshorts.com/inshorts/images/v1/variants/jpg/m/2023/01_jan/10_tue/img_1673347040224_102.jpg?',\n",
       "   'readMoreUrl': 'https://twitter.com/ashokepandit/status/1612703645862342659?utm_campaign=fullarticle&utm_medium=referral&utm_source=inshorts ',\n",
       "   'time': '04:35 pm',\n",
       "   'title': \"Big slap to those who abused Kashmir Files: Ashoke on Oscars' eligible list\",\n",
       "   'url': 'https://www.inshorts.com/en/news/big-slap-to-those-who-abused-kashmir-files-ashoke-on-oscars-eligible-list-1673348730671'},\n",
       "  {'author': 'Udit Gupta',\n",
       "   'content': '\\'Thunivu\\' director H Vinoth has opened up about the box office clash between the Ajith Kumar-starrer film and Vijay\\'s \\'Varisu\\'. He said, \"People, who have money, can watch both films. Otherwise, they can select one film and watch it.\" \"It\\'s in the hands of the fans to keep it (competition) healthy,\" Vinoth further said. ',\n",
       "   'date': '10 Jan 2023,Tuesday',\n",
       "   'id': '3e67b0ceeb5c4eddad5e9871d7450af6',\n",
       "   'imageUrl': 'https://static.inshorts.com/inshorts/images/v1/variants/jpg/m/2023/01_jan/10_tue/img_1673347369824_389.jpg?',\n",
       "   'readMoreUrl': None,\n",
       "   'time': '05:21 pm',\n",
       "   'title': 'People who have money can watch both: Thunivu maker on clash with Varisu',\n",
       "   'url': 'https://www.inshorts.com/en/news/people-who-have-money-can-watch-both-thunivu-maker-on-clash-with-varisu-1673351506000'}],\n",
       " 'success': True}"
      ]
     },
     "execution_count": 4,
     "metadata": {},
     "output_type": "execute_result"
    }
   ],
   "source": [
    "file = res.json()\n",
    "file"
   ]
  },
  {
   "cell_type": "markdown",
   "metadata": {},
   "source": [
    "Converting the file to a dataframe"
   ]
  },
  {
   "cell_type": "code",
   "execution_count": 5,
   "metadata": {},
   "outputs": [
    {
     "data": {
      "text/plain": [
       "0     {'author': 'Sakshita Khosla', 'content': 'Amer...\n",
       "1     {'author': 'Arshiya Chopra', 'content': 'Actre...\n",
       "2     {'author': 'Kameshwari', 'content': 'Actor-dir...\n",
       "3     {'author': 'Anmol Sharma', 'content': 'Talking...\n",
       "4     {'author': 'Arshiya Chopra', 'content': 'Actor...\n",
       "5     {'author': 'Arshiya Chopra', 'content': 'The A...\n",
       "6     {'author': 'Anmol Sharma', 'content': 'After h...\n",
       "7     {'author': 'Pragya Swastik', 'content': 'Actor...\n",
       "8     {'author': 'Anmol Sharma', 'content': 'Actress...\n",
       "9     {'author': 'Kameshwari', 'content': 'Rannvijay...\n",
       "10    {'author': 'Kameshwari', 'content': 'Hrithik R...\n",
       "11    {'author': 'Kameshwari', 'content': 'Hugh Jack...\n",
       "12    {'author': 'Arnab Mukherji ', 'content': 'Talk...\n",
       "13    {'author': 'Arnab Mukherji ', 'content': 'Talk...\n",
       "14    {'author': 'Kameshwari', 'content': 'Bhuvan Ba...\n",
       "15    {'author': 'Udit Gupta', 'content': 'Hrithik R...\n",
       "16    {'author': 'Kameshwari', 'content': 'Johny Lev...\n",
       "17    {'author': 'Udit Gupta', 'content': 'Actor Kar...\n",
       "18    {'author': 'Udit Gupta', 'content': 'Actor Rah...\n",
       "19    {'author': 'Udit Gupta', 'content': 'Swara Bha...\n",
       "20    {'author': 'Udit Gupta', 'content': 'Actor Anu...\n",
       "21    {'author': 'Udit Gupta', 'content': 'Actor Ram...\n",
       "22    {'author': 'Arnab Mukherji ', 'content': 'Talk...\n",
       "23    {'author': 'Udit Gupta', 'content': ''Thunivu'...\n",
       "Name: data, dtype: object"
      ]
     },
     "execution_count": 5,
     "metadata": {},
     "output_type": "execute_result"
    }
   ],
   "source": [
    "df = pd.DataFrame(file)\n",
    "df.data"
   ]
  },
  {
   "cell_type": "markdown",
   "metadata": {},
   "source": [
    "Flattening to data"
   ]
  },
  {
   "cell_type": "code",
   "execution_count": 6,
   "metadata": {},
   "outputs": [
    {
     "name": "stdout",
     "output_type": "stream",
     "text": [
      "Actress Karishma Sharma has denied former professional kickboxer Andrew Tate's claim in an old video that he had hooked up with her. \"We never hooked up...he is a scumbag spreading lies...I was really happy when he was arrested.\" Karishma said she had once met him at a 2014 party and clicked a picture with him, which is now going viral.\n"
     ]
    }
   ],
   "source": [
    "from pandas import json_normalize\n",
    "flattened_data = json_normalize(df.data)\n",
    "flattened_data\n",
    "print(flattened_data[\"content\"][1])"
   ]
  },
  {
   "cell_type": "markdown",
   "metadata": {},
   "source": [
    "Filtering for a fun fact in the \"content\" key in the dictionary"
   ]
  },
  {
   "cell_type": "code",
   "execution_count": 7,
   "metadata": {},
   "outputs": [],
   "source": [
    "import random\n",
    "\n",
    "def random_entfact(data):\n",
    "    print(flattened_data[\"content\"][random.randint(4, len(flattened_data)-1)])\n",
    "    "
   ]
  },
  {
   "cell_type": "markdown",
   "metadata": {},
   "source": [
    "FUN FACT!"
   ]
  },
  {
   "cell_type": "code",
   "execution_count": 8,
   "metadata": {},
   "outputs": [
    {
     "name": "stdout",
     "output_type": "stream",
     "text": [
      "Johny Lever revealed that there was no writer for the comedy scenes in 'Baazigar'. \"I came up with...the punches...But these days, we don't have (comedy) writers. It's like, 'Johny bhai will handle it'. That's not how it works,\" he said. Johny added that he doesn't do many films like before because \"the writing is bad\" and \"there's hardly...comedy in movies\". \n"
     ]
    }
   ],
   "source": [
    "random_entfact(flattened_data)"
   ]
  },
  {
   "cell_type": "markdown",
   "metadata": {},
   "source": [
    "#### Imported from the following API category: Free Dictionary API - DATA"
   ]
  },
  {
   "cell_type": "code",
   "execution_count": 9,
   "metadata": {},
   "outputs": [],
   "source": [
    "res1 = requests.get('https://api.dictionaryapi.dev/api/v2/entries/en/data')"
   ]
  },
  {
   "cell_type": "code",
   "execution_count": 10,
   "metadata": {},
   "outputs": [
    {
     "data": {
      "text/plain": [
       "requests.models.Response"
      ]
     },
     "execution_count": 10,
     "metadata": {},
     "output_type": "execute_result"
    }
   ],
   "source": [
    "type(res1)"
   ]
  },
  {
   "cell_type": "markdown",
   "metadata": {},
   "source": [
    "Happy to get a 200 response"
   ]
  },
  {
   "cell_type": "code",
   "execution_count": 11,
   "metadata": {},
   "outputs": [
    {
     "data": {
      "text/plain": [
       "<Response [200]>"
      ]
     },
     "execution_count": 11,
     "metadata": {},
     "output_type": "execute_result"
    }
   ],
   "source": [
    "res1"
   ]
  },
  {
   "cell_type": "markdown",
   "metadata": {},
   "source": [
    "Running json to file1 to see how API is structured"
   ]
  },
  {
   "cell_type": "code",
   "execution_count": 27,
   "metadata": {},
   "outputs": [
    {
     "data": {
      "text/plain": [
       "[{'word': 'data',\n",
       "  'phonetic': '/ˈdaetə/',\n",
       "  'phonetics': [{'text': '/ˈdaetə/',\n",
       "    'audio': 'https://api.dictionaryapi.dev/media/pronunciations/en/data-au-nz.mp3',\n",
       "    'sourceUrl': 'https://commons.wikimedia.org/w/index.php?curid=35316551',\n",
       "    'license': {'name': 'BY-SA 4.0',\n",
       "     'url': 'https://creativecommons.org/licenses/by-sa/4.0'}},\n",
       "   {'text': '/ˈdætə/',\n",
       "    'audio': 'https://api.dictionaryapi.dev/media/pronunciations/en/data-ca-ie-us.mp3',\n",
       "    'sourceUrl': 'https://commons.wikimedia.org/w/index.php?curid=197143',\n",
       "    'license': {'name': 'BY-SA 3.0',\n",
       "     'url': 'https://creativecommons.org/licenses/by-sa/3.0'}},\n",
       "   {'text': '/ˈdeɪtə/',\n",
       "    'audio': 'https://api.dictionaryapi.dev/media/pronunciations/en/data-ie-uk-us.mp3',\n",
       "    'sourceUrl': 'https://commons.wikimedia.org/w/index.php?curid=197144',\n",
       "    'license': {'name': 'BY-SA 3.0',\n",
       "     'url': 'https://creativecommons.org/licenses/by-sa/3.0'}},\n",
       "   {'text': '/ˈdaetə/',\n",
       "    'audio': 'https://api.dictionaryapi.dev/media/pronunciations/en/data-au-nz.mp3',\n",
       "    'sourceUrl': 'https://commons.wikimedia.org/w/index.php?curid=35316551',\n",
       "    'license': {'name': 'BY-SA 4.0',\n",
       "     'url': 'https://creativecommons.org/licenses/by-sa/4.0'}},\n",
       "   {'text': '/ˈdeɪtə/',\n",
       "    'audio': 'https://api.dictionaryapi.dev/media/pronunciations/en/data-ie-uk-us.mp3',\n",
       "    'sourceUrl': 'https://commons.wikimedia.org/w/index.php?curid=197144',\n",
       "    'license': {'name': 'BY-SA 3.0',\n",
       "     'url': 'https://creativecommons.org/licenses/by-sa/3.0'}},\n",
       "   {'text': '/ˈdeɪtə/',\n",
       "    'audio': 'https://api.dictionaryapi.dev/media/pronunciations/en/data-ie-uk-us.mp3',\n",
       "    'sourceUrl': 'https://commons.wikimedia.org/w/index.php?curid=197144',\n",
       "    'license': {'name': 'BY-SA 3.0',\n",
       "     'url': 'https://creativecommons.org/licenses/by-sa/3.0'}}],\n",
       "  'meanings': [{'partOfSpeech': 'noun',\n",
       "    'definitions': [{'definition': '(plural: data) A measurement of something on a scale understood by both the recorder (a person or device) and the reader (another person or device). The scale is arbitrarily defined, such as from 1 to 10 by ones, 1 to 100 by 0.1, or simply true or false, on or off, yes, no, or maybe, etc.',\n",
       "      'synonyms': [],\n",
       "      'antonyms': []},\n",
       "     {'definition': '(plural: data) A fact known from direct observation.',\n",
       "      'synonyms': [],\n",
       "      'antonyms': []},\n",
       "     {'definition': '(plural: data) A premise from which conclusions are drawn.',\n",
       "      'synonyms': [],\n",
       "      'antonyms': []},\n",
       "     {'definition': '(plural: datums) A fixed reference point, or a coordinate system.',\n",
       "      'synonyms': [],\n",
       "      'antonyms': []}],\n",
       "    'synonyms': [],\n",
       "    'antonyms': []}],\n",
       "  'license': {'name': 'CC BY-SA 3.0',\n",
       "   'url': 'https://creativecommons.org/licenses/by-sa/3.0'},\n",
       "  'sourceUrls': ['https://en.wiktionary.org/wiki/data',\n",
       "   'https://en.wiktionary.org/wiki/datum']}]"
      ]
     },
     "execution_count": 27,
     "metadata": {},
     "output_type": "execute_result"
    }
   ],
   "source": [
    "file1 = res1.json()\n",
    "file1"
   ]
  },
  {
   "cell_type": "markdown",
   "metadata": {},
   "source": [
    "Converting file1 to a df"
   ]
  },
  {
   "cell_type": "code",
   "execution_count": 83,
   "metadata": {},
   "outputs": [
    {
     "data": {
      "text/html": [
       "<div>\n",
       "<style scoped>\n",
       "    .dataframe tbody tr th:only-of-type {\n",
       "        vertical-align: middle;\n",
       "    }\n",
       "\n",
       "    .dataframe tbody tr th {\n",
       "        vertical-align: top;\n",
       "    }\n",
       "\n",
       "    .dataframe thead th {\n",
       "        text-align: right;\n",
       "    }\n",
       "</style>\n",
       "<table border=\"1\" class=\"dataframe\">\n",
       "  <thead>\n",
       "    <tr style=\"text-align: right;\">\n",
       "      <th></th>\n",
       "      <th>word</th>\n",
       "      <th>phonetic</th>\n",
       "      <th>phonetics</th>\n",
       "      <th>meanings</th>\n",
       "      <th>license</th>\n",
       "      <th>sourceUrls</th>\n",
       "    </tr>\n",
       "  </thead>\n",
       "  <tbody>\n",
       "    <tr>\n",
       "      <th>0</th>\n",
       "      <td>data</td>\n",
       "      <td>/ˈdaetə/</td>\n",
       "      <td>[{'text': '/ˈdaetə/', 'audio': 'https://api.di...</td>\n",
       "      <td>[{'partOfSpeech': 'noun', 'definitions': [{'de...</td>\n",
       "      <td>{'name': 'CC BY-SA 3.0', 'url': 'https://creat...</td>\n",
       "      <td>[https://en.wiktionary.org/wiki/data, https://...</td>\n",
       "    </tr>\n",
       "  </tbody>\n",
       "</table>\n",
       "</div>"
      ],
      "text/plain": [
       "   word  phonetic                                          phonetics  \\\n",
       "0  data  /ˈdaetə/  [{'text': '/ˈdaetə/', 'audio': 'https://api.di...   \n",
       "\n",
       "                                            meanings  \\\n",
       "0  [{'partOfSpeech': 'noun', 'definitions': [{'de...   \n",
       "\n",
       "                                             license  \\\n",
       "0  {'name': 'CC BY-SA 3.0', 'url': 'https://creat...   \n",
       "\n",
       "                                          sourceUrls  \n",
       "0  [https://en.wiktionary.org/wiki/data, https://...  "
      ]
     },
     "execution_count": 83,
     "metadata": {},
     "output_type": "execute_result"
    }
   ],
   "source": [
    "df1 = pd.DataFrame(file1)\n",
    "df1"
   ]
  },
  {
   "cell_type": "markdown",
   "metadata": {},
   "source": [
    "Flattening the data"
   ]
  },
  {
   "cell_type": "code",
   "execution_count": 87,
   "metadata": {},
   "outputs": [
    {
     "data": {
      "text/html": [
       "<div>\n",
       "<style scoped>\n",
       "    .dataframe tbody tr th:only-of-type {\n",
       "        vertical-align: middle;\n",
       "    }\n",
       "\n",
       "    .dataframe tbody tr th {\n",
       "        vertical-align: top;\n",
       "    }\n",
       "\n",
       "    .dataframe thead th {\n",
       "        text-align: right;\n",
       "    }\n",
       "</style>\n",
       "<table border=\"1\" class=\"dataframe\">\n",
       "  <thead>\n",
       "    <tr style=\"text-align: right;\">\n",
       "      <th></th>\n",
       "      <th>partOfSpeech</th>\n",
       "      <th>definitions</th>\n",
       "      <th>synonyms</th>\n",
       "      <th>antonyms</th>\n",
       "    </tr>\n",
       "  </thead>\n",
       "  <tbody>\n",
       "    <tr>\n",
       "      <th>0</th>\n",
       "      <td>noun</td>\n",
       "      <td>[{'definition': '(plural: data) A measurement ...</td>\n",
       "      <td>[]</td>\n",
       "      <td>[]</td>\n",
       "    </tr>\n",
       "  </tbody>\n",
       "</table>\n",
       "</div>"
      ],
      "text/plain": [
       "  partOfSpeech                                        definitions synonyms  \\\n",
       "0         noun  [{'definition': '(plural: data) A measurement ...       []   \n",
       "\n",
       "  antonyms  \n",
       "0       []  "
      ]
     },
     "execution_count": 87,
     "metadata": {},
     "output_type": "execute_result"
    }
   ],
   "source": [
    "flattened_data1 = json_normalize(df1.meanings[0])\n",
    "flattened_data1\n",
    "# print(flattened_data1['meanings'][0])"
   ]
  },
  {
   "cell_type": "code",
   "execution_count": 88,
   "metadata": {},
   "outputs": [
    {
     "data": {
      "text/html": [
       "<div>\n",
       "<style scoped>\n",
       "    .dataframe tbody tr th:only-of-type {\n",
       "        vertical-align: middle;\n",
       "    }\n",
       "\n",
       "    .dataframe tbody tr th {\n",
       "        vertical-align: top;\n",
       "    }\n",
       "\n",
       "    .dataframe thead th {\n",
       "        text-align: right;\n",
       "    }\n",
       "</style>\n",
       "<table border=\"1\" class=\"dataframe\">\n",
       "  <thead>\n",
       "    <tr style=\"text-align: right;\">\n",
       "      <th></th>\n",
       "      <th>definition</th>\n",
       "      <th>synonyms</th>\n",
       "      <th>antonyms</th>\n",
       "    </tr>\n",
       "  </thead>\n",
       "  <tbody>\n",
       "    <tr>\n",
       "      <th>0</th>\n",
       "      <td>(plural: data) A measurement of something on a...</td>\n",
       "      <td>[]</td>\n",
       "      <td>[]</td>\n",
       "    </tr>\n",
       "    <tr>\n",
       "      <th>1</th>\n",
       "      <td>(plural: data) A fact known from direct observ...</td>\n",
       "      <td>[]</td>\n",
       "      <td>[]</td>\n",
       "    </tr>\n",
       "    <tr>\n",
       "      <th>2</th>\n",
       "      <td>(plural: data) A premise from which conclusion...</td>\n",
       "      <td>[]</td>\n",
       "      <td>[]</td>\n",
       "    </tr>\n",
       "    <tr>\n",
       "      <th>3</th>\n",
       "      <td>(plural: datums) A fixed reference point, or a...</td>\n",
       "      <td>[]</td>\n",
       "      <td>[]</td>\n",
       "    </tr>\n",
       "  </tbody>\n",
       "</table>\n",
       "</div>"
      ],
      "text/plain": [
       "                                          definition synonyms antonyms\n",
       "0  (plural: data) A measurement of something on a...       []       []\n",
       "1  (plural: data) A fact known from direct observ...       []       []\n",
       "2  (plural: data) A premise from which conclusion...       []       []\n",
       "3  (plural: datums) A fixed reference point, or a...       []       []"
      ]
     },
     "execution_count": 88,
     "metadata": {},
     "output_type": "execute_result"
    }
   ],
   "source": [
    "flattened_data2 = json_normalize(flattened_data1.definitions[0])\n",
    "flattened_data2"
   ]
  },
  {
   "cell_type": "markdown",
   "metadata": {},
   "source": [
    "Filtering the definition"
   ]
  },
  {
   "cell_type": "code",
   "execution_count": 89,
   "metadata": {},
   "outputs": [],
   "source": [
    "def random_dictfact(file1):\n",
    "    print(flattened_data2['definition'][random.randint(0, len(flattened_data2)-1)])"
   ]
  },
  {
   "cell_type": "code",
   "execution_count": 90,
   "metadata": {},
   "outputs": [
    {
     "name": "stdout",
     "output_type": "stream",
     "text": [
      "(plural: data) A measurement of something on a scale understood by both the recorder (a person or device) and the reader (another person or device). The scale is arbitrarily defined, such as from 1 to 10 by ones, 1 to 100 by 0.1, or simply true or false, on or off, yes, no, or maybe, etc.\n"
     ]
    }
   ],
   "source": [
    "random_dictfact(flattened_data2)"
   ]
  },
  {
   "cell_type": "markdown",
   "metadata": {},
   "source": [
    "#### Imported from the following API category: Chuck Norris.IO, and picked the random fun fact"
   ]
  },
  {
   "cell_type": "code",
   "execution_count": 156,
   "metadata": {},
   "outputs": [],
   "source": [
    "res2 = requests.get('https://api.chucknorris.io/jokes/random')"
   ]
  },
  {
   "cell_type": "code",
   "execution_count": 157,
   "metadata": {},
   "outputs": [
    {
     "data": {
      "text/plain": [
       "requests.models.Response"
      ]
     },
     "execution_count": 157,
     "metadata": {},
     "output_type": "execute_result"
    }
   ],
   "source": [
    "type(res2)"
   ]
  },
  {
   "cell_type": "markdown",
   "metadata": {},
   "source": [
    "Received a 200 Response"
   ]
  },
  {
   "cell_type": "code",
   "execution_count": 158,
   "metadata": {},
   "outputs": [
    {
     "data": {
      "text/plain": [
       "<Response [200]>"
      ]
     },
     "execution_count": 158,
     "metadata": {},
     "output_type": "execute_result"
    }
   ],
   "source": [
    "res2"
   ]
  },
  {
   "cell_type": "markdown",
   "metadata": {},
   "source": [
    "Looking at the structure of the API"
   ]
  },
  {
   "cell_type": "code",
   "execution_count": 159,
   "metadata": {},
   "outputs": [
    {
     "data": {
      "text/plain": [
       "{'categories': [],\n",
       " 'created_at': '2020-01-05 13:42:26.194739',\n",
       " 'icon_url': 'https://assets.chucknorris.host/img/avatar/chuck-norris.png',\n",
       " 'id': 'p20FWreLQ1Gc4Hv3YtZfMA',\n",
       " 'updated_at': '2020-01-05 13:42:26.194739',\n",
       " 'url': 'https://api.chucknorris.io/jokes/p20FWreLQ1Gc4Hv3YtZfMA',\n",
       " 'value': \"Chuck Norris owns the world's only working proton pack. He has used it once, to kill some noisy neighbours, then catch their souls.\"}"
      ]
     },
     "execution_count": 159,
     "metadata": {},
     "output_type": "execute_result"
    }
   ],
   "source": [
    "my_dict = res2.json()\n",
    "my_dict"
   ]
  },
  {
   "cell_type": "markdown",
   "metadata": {},
   "source": [
    "Converted to a df"
   ]
  },
  {
   "cell_type": "code",
   "execution_count": 160,
   "metadata": {},
   "outputs": [
    {
     "data": {
      "text/html": [
       "<div>\n",
       "<style scoped>\n",
       "    .dataframe tbody tr th:only-of-type {\n",
       "        vertical-align: middle;\n",
       "    }\n",
       "\n",
       "    .dataframe tbody tr th {\n",
       "        vertical-align: top;\n",
       "    }\n",
       "\n",
       "    .dataframe thead th {\n",
       "        text-align: right;\n",
       "    }\n",
       "</style>\n",
       "<table border=\"1\" class=\"dataframe\">\n",
       "  <thead>\n",
       "    <tr style=\"text-align: right;\">\n",
       "      <th></th>\n",
       "      <th>categories</th>\n",
       "      <th>created_at</th>\n",
       "      <th>icon_url</th>\n",
       "      <th>id</th>\n",
       "      <th>updated_at</th>\n",
       "      <th>url</th>\n",
       "      <th>value</th>\n",
       "    </tr>\n",
       "  </thead>\n",
       "  <tbody>\n",
       "    <tr>\n",
       "      <th>0</th>\n",
       "      <td>[]</td>\n",
       "      <td>2020-01-05 13:42:26.194739</td>\n",
       "      <td>https://assets.chucknorris.host/img/avatar/chu...</td>\n",
       "      <td>p20FWreLQ1Gc4Hv3YtZfMA</td>\n",
       "      <td>2020-01-05 13:42:26.194739</td>\n",
       "      <td>https://api.chucknorris.io/jokes/p20FWreLQ1Gc4...</td>\n",
       "      <td>Chuck Norris owns the world's only working pro...</td>\n",
       "    </tr>\n",
       "  </tbody>\n",
       "</table>\n",
       "</div>"
      ],
      "text/plain": [
       "  categories                  created_at  \\\n",
       "0         []  2020-01-05 13:42:26.194739   \n",
       "\n",
       "                                            icon_url                      id  \\\n",
       "0  https://assets.chucknorris.host/img/avatar/chu...  p20FWreLQ1Gc4Hv3YtZfMA   \n",
       "\n",
       "                   updated_at  \\\n",
       "0  2020-01-05 13:42:26.194739   \n",
       "\n",
       "                                                 url  \\\n",
       "0  https://api.chucknorris.io/jokes/p20FWreLQ1Gc4...   \n",
       "\n",
       "                                               value  \n",
       "0  Chuck Norris owns the world's only working pro...  "
      ]
     },
     "execution_count": 160,
     "metadata": {},
     "output_type": "execute_result"
    }
   ],
   "source": [
    "df2 = pd.DataFrame([my_dict])\n",
    "df2"
   ]
  },
  {
   "cell_type": "code",
   "execution_count": 161,
   "metadata": {},
   "outputs": [
    {
     "data": {
      "text/html": [
       "<div>\n",
       "<style scoped>\n",
       "    .dataframe tbody tr th:only-of-type {\n",
       "        vertical-align: middle;\n",
       "    }\n",
       "\n",
       "    .dataframe tbody tr th {\n",
       "        vertical-align: top;\n",
       "    }\n",
       "\n",
       "    .dataframe thead th {\n",
       "        text-align: right;\n",
       "    }\n",
       "</style>\n",
       "<table border=\"1\" class=\"dataframe\">\n",
       "  <thead>\n",
       "    <tr style=\"text-align: right;\">\n",
       "      <th></th>\n",
       "      <th>categories</th>\n",
       "      <th>created_at</th>\n",
       "      <th>icon_url</th>\n",
       "      <th>id</th>\n",
       "      <th>updated_at</th>\n",
       "      <th>url</th>\n",
       "      <th>value</th>\n",
       "    </tr>\n",
       "  </thead>\n",
       "  <tbody>\n",
       "    <tr>\n",
       "      <th>0</th>\n",
       "      <td>[]</td>\n",
       "      <td>2020-01-05 13:42:26.194739</td>\n",
       "      <td>https://assets.chucknorris.host/img/avatar/chu...</td>\n",
       "      <td>p20FWreLQ1Gc4Hv3YtZfMA</td>\n",
       "      <td>2020-01-05 13:42:26.194739</td>\n",
       "      <td>https://api.chucknorris.io/jokes/p20FWreLQ1Gc4...</td>\n",
       "      <td>Chuck Norris owns the world's only working pro...</td>\n",
       "    </tr>\n",
       "  </tbody>\n",
       "</table>\n",
       "</div>"
      ],
      "text/plain": [
       "  categories                  created_at  \\\n",
       "0         []  2020-01-05 13:42:26.194739   \n",
       "\n",
       "                                            icon_url                      id  \\\n",
       "0  https://assets.chucknorris.host/img/avatar/chu...  p20FWreLQ1Gc4Hv3YtZfMA   \n",
       "\n",
       "                   updated_at  \\\n",
       "0  2020-01-05 13:42:26.194739   \n",
       "\n",
       "                                                 url  \\\n",
       "0  https://api.chucknorris.io/jokes/p20FWreLQ1Gc4...   \n",
       "\n",
       "                                               value  \n",
       "0  Chuck Norris owns the world's only working pro...  "
      ]
     },
     "execution_count": 161,
     "metadata": {},
     "output_type": "execute_result"
    }
   ],
   "source": [
    "flattened_data3 = json_normalize(my_dict)\n",
    "flattened_data3\n",
    "#print(flattened_data[\"value\"])"
   ]
  },
  {
   "cell_type": "markdown",
   "metadata": {},
   "source": [
    "Ran function for random fact"
   ]
  },
  {
   "cell_type": "code",
   "execution_count": 162,
   "metadata": {},
   "outputs": [],
   "source": [
    "def random_fact(my_dict):\n",
    "    print(flattened_data3['value'][random.randint(0, len(flattened_data3)-1)])"
   ]
  },
  {
   "cell_type": "code",
   "execution_count": 163,
   "metadata": {},
   "outputs": [
    {
     "name": "stdout",
     "output_type": "stream",
     "text": [
      "Chuck Norris owns the world's only working proton pack. He has used it once, to kill some noisy neighbours, then catch their souls.\n"
     ]
    }
   ],
   "source": [
    "random_fact(flattened_data3)"
   ]
  },
  {
   "cell_type": "markdown",
   "metadata": {},
   "source": [
    "END"
   ]
  },
  {
   "cell_type": "code",
   "execution_count": null,
   "metadata": {},
   "outputs": [],
   "source": []
  },
  {
   "cell_type": "code",
   "execution_count": null,
   "metadata": {},
   "outputs": [],
   "source": []
  },
  {
   "cell_type": "code",
   "execution_count": null,
   "metadata": {},
   "outputs": [],
   "source": []
  },
  {
   "cell_type": "code",
   "execution_count": null,
   "metadata": {},
   "outputs": [],
   "source": []
  },
  {
   "cell_type": "code",
   "execution_count": null,
   "metadata": {},
   "outputs": [],
   "source": []
  },
  {
   "cell_type": "code",
   "execution_count": null,
   "metadata": {},
   "outputs": [],
   "source": []
  },
  {
   "cell_type": "code",
   "execution_count": null,
   "metadata": {},
   "outputs": [],
   "source": []
  },
  {
   "cell_type": "code",
   "execution_count": null,
   "metadata": {},
   "outputs": [],
   "source": []
  },
  {
   "cell_type": "code",
   "execution_count": null,
   "metadata": {},
   "outputs": [],
   "source": []
  },
  {
   "cell_type": "code",
   "execution_count": null,
   "metadata": {},
   "outputs": [],
   "source": []
  },
  {
   "cell_type": "code",
   "execution_count": null,
   "metadata": {},
   "outputs": [],
   "source": []
  }
 ],
 "metadata": {
  "kernelspec": {
   "display_name": "Python 3 (ipykernel)",
   "language": "python",
   "name": "python3"
  },
  "language_info": {
   "codemirror_mode": {
    "name": "ipython",
    "version": 3
   },
   "file_extension": ".py",
   "mimetype": "text/x-python",
   "name": "python",
   "nbconvert_exporter": "python",
   "pygments_lexer": "ipython3",
   "version": "3.9.13"
  }
 },
 "nbformat": 4,
 "nbformat_minor": 4
}
